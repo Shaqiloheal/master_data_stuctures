{
 "cells": [
  {
   "cell_type": "code",
   "execution_count": null,
   "id": "e836629f",
   "metadata": {},
   "outputs": [],
   "source": [
    "\"\"\"Stack\"\"\"\n",
    "# Linear data structure\n",
    "# It follows Last In First Out (LIFO) order.\n",
    "# Insertion and removal of the element has done at one end.\n",
    "# Push is used for inserting an element in a stack.\n",
    "# Pop is used to remove an element from the stack."
   ]
  },
  {
   "cell_type": "code",
   "execution_count": null,
   "id": "75c01084",
   "metadata": {},
   "outputs": [],
   "source": [
    "\"\"\"Stack functions\"\"\"\n",
    "# push(x) - It is used to insert the element 'x' at the end of the stack.\n",
    "# pop()   - It is used to remove the topmost/last element of the stack.\n",
    "# size()  - Gives the size/length of a stack.\n",
    "# top()   - give refrenece of last element present in stack.\n",
    "# empty() - Returns True for an empty stack."
   ]
  },
  {
   "cell_type": "code",
   "execution_count": null,
   "id": "d9290c43",
   "metadata": {},
   "outputs": [],
   "source": [
    "\"\"\"Implementation of Stack\"\"\"\n",
    "# Several ways to implement Stack in Python:\n",
    "# list\n",
    "# collections.deque\n",
    "# queue.LifoQueue"
   ]
  },
  {
   "cell_type": "code",
   "execution_count": 6,
   "id": "0b90e599",
   "metadata": {},
   "outputs": [
    {
     "name": "stdout",
     "output_type": "stream",
     "text": [
      "['Welcome ', 'to ', 'learning Data Structures!']\n",
      "learning Data Structures!\n"
     ]
    }
   ],
   "source": [
    "\"\"\"Implementation using List\"\"\"\n",
    "# List in Python can be used as stack:\n",
    "# * append() - used to insert the element\n",
    "# * pop()    - used to remove the last element\n",
    "\n",
    "# Logic:\n",
    "stack = []\n",
    "stack.append(\"Welcome \")\n",
    "stack.append(\"to \")\n",
    "stack.append(\"learning Data Structures!\")\n",
    "print(stack)\n",
    "print(stack.pop())"
   ]
  },
  {
   "cell_type": "code",
   "execution_count": 8,
   "id": "b461a0b7",
   "metadata": {},
   "outputs": [
    {
     "name": "stdout",
     "output_type": "stream",
     "text": [
      "deque(['x'])\n",
      "deque(['x', 'y', 'z'])\n",
      "z\n",
      "deque(['x', 'y'])\n"
     ]
    }
   ],
   "source": [
    "\"\"\"Implementation using collection.deque\"\"\"\n",
    "# Stacks in Python are created by the collection module which provides the deque class.\n",
    "# append and pop operations are faster in deque (double ended queue) as compare to list.\n",
    "\n",
    "# Logic:\n",
    "from collections import deque\n",
    "stack = deque()\n",
    "stack.append(\"x\")\n",
    "print(stack)\n",
    "stack.append(\"y\")\n",
    "stack.append(\"z\")\n",
    "print(stack)\n",
    "print(stack.pop())\n",
    "print(stack)"
   ]
  },
  {
   "cell_type": "code",
   "execution_count": 9,
   "id": "a8098d94",
   "metadata": {},
   "outputs": [
    {
     "name": "stdout",
     "output_type": "stream",
     "text": [
      "3\n",
      "True\n",
      "False\n"
     ]
    }
   ],
   "source": [
    "\"\"\"Implementation using queue\"\"\"\n",
    "# Queue module contains the LIFO queue.\n",
    "# It has some additional functions and works the same as stack.\n",
    "# put function is used to insert data into the queue.\n",
    "# get function is used to remove the element.\n",
    "\n",
    "\"\"\"Functions\"\"\"\n",
    "# get() - Used to remove the element from the queue.\n",
    "# maxsize() - Used to put the maximum number of items allowed in queue.\n",
    "# empty() - It returns True, when queue is empty returns False.\n",
    "# full() - When queue is full return True.\n",
    "# put(x) - Used to insert \"x\" in queue.\n",
    "# qsize() - Returns the size of a queue.\n",
    "\n",
    "# Logic:\n",
    "from queue import LifoQueue\n",
    "stack = LifoQueue(maxsize = 3)\n",
    "stack.put(2)\n",
    "stack.put(3)\n",
    "stack.put(4)\n",
    "print(stack.qsize())\n",
    "print(stack.full())\n",
    "stack.get()\n",
    "print(stack.full())"
   ]
  },
  {
   "cell_type": "code",
   "execution_count": null,
   "id": "86f80af4",
   "metadata": {},
   "outputs": [],
   "source": [
    "\"\"\"Advantages\"\"\"\n",
    "# Maintains data in LIFO manner\n",
    "# Last element is readily available for use.\n",
    "# All operations are of O(1) complexity.\n",
    "\n",
    "\"\"\"Disadvantages\"\"\"\n",
    "# Maniputlation is restricted to the top of the stack.\n",
    "# Not much flexability."
   ]
  }
 ],
 "metadata": {
  "kernelspec": {
   "display_name": "Python 3 (ipykernel)",
   "language": "python",
   "name": "python3"
  },
  "language_info": {
   "codemirror_mode": {
    "name": "ipython",
    "version": 3
   },
   "file_extension": ".py",
   "mimetype": "text/x-python",
   "name": "python",
   "nbconvert_exporter": "python",
   "pygments_lexer": "ipython3",
   "version": "3.10.1"
  }
 },
 "nbformat": 4,
 "nbformat_minor": 5
}
