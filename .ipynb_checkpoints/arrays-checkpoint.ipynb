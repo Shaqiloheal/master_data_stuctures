{
 "cells": [
  {
   "cell_type": "code",
   "execution_count": 1,
   "id": "c9725b44",
   "metadata": {},
   "outputs": [],
   "source": [
    "\"\"\"What is an Array?\"\"\"\n",
    "# Linear Data Structure\n",
    "# Contiguous memory locations\n",
    "# Access elements randomly\n",
    "# Homogenous elements i.e similar elements"
   ]
  },
  {
   "cell_type": "code",
   "execution_count": 3,
   "id": "8cb8dbd0",
   "metadata": {},
   "outputs": [
    {
     "data": {
      "text/plain": [
       "'Applications'"
      ]
     },
     "execution_count": 3,
     "metadata": {},
     "output_type": "execute_result"
    }
   ],
   "source": [
    "\"\"\"Applications\"\"\"\n",
    "# Storing information - linear fashion\n",
    "# Suitable for applications that require frequent searching."
   ]
  },
  {
   "cell_type": "code",
   "execution_count": 4,
   "id": "ca629689",
   "metadata": {},
   "outputs": [
    {
     "data": {
      "text/plain": [
       "'1-Dimensional Array'"
      ]
     },
     "execution_count": 4,
     "metadata": {},
     "output_type": "execute_result"
    }
   ],
   "source": [
    "\"\"\"1-Dimensional Array\"\"\"\n",
    "# 1D can be related to a row\n",
    "# Elements are stored one after another\n",
    "# Only one subscript or index is used"
   ]
  },
  {
   "cell_type": "code",
   "execution_count": 5,
   "id": "b853189d",
   "metadata": {},
   "outputs": [
    {
     "data": {
      "text/plain": [
       "'Declaration & Initialisation'"
      ]
     },
     "execution_count": 5,
     "metadata": {},
     "output_type": "execute_result"
    }
   ],
   "source": [
    "\"\"\"Declaration & Initialisation\"\"\"\n",
    "# Array declaration:\n",
    "#   - Datatype varname [size];\n",
    "# Can also do declaration and initilisation at once:\n",
    "#   - Datatype varname [] = {ele1, ele2, ele3, ele4};"
   ]
  },
  {
   "cell_type": "code",
   "execution_count": 6,
   "id": "fc0038d4",
   "metadata": {},
   "outputs": [
    {
     "data": {
      "text/plain": [
       "'2-Dimesional Array'"
      ]
     },
     "execution_count": 6,
     "metadata": {},
     "output_type": "execute_result"
    }
   ],
   "source": [
    "\"\"\"2-Dimesional Array\"\"\"\n",
    "# 2D can be related to a table or matrix.\n",
    "# Elements are stored one after another i.e one 1D arrat inside other.\n",
    "# Two subscripts or indices are used, one row and one column\n",
    "# Dimesions depends upon the number of subscripts used."
   ]
  },
  {
   "cell_type": "code",
   "execution_count": 7,
   "id": "917b0f01",
   "metadata": {},
   "outputs": [
    {
     "data": {
      "text/plain": [
       "'Array implementation'"
      ]
     },
     "execution_count": 7,
     "metadata": {},
     "output_type": "execute_result"
    }
   ],
   "source": [
    "\"\"\"Array implementation\"\"\"\n",
    "# 1. Create a 1D integer array and insert numbers to the maximum size provided until the end of the array.  Access the \n",
    "#    numbers inserted and then display the same as output.\n",
    "\n",
    "# 2. Create a 2D integer array and insert numbers to the maximum size provided until the end of the array.  Access the \n",
    "#    numbers inserted and then display the same as output.\n",
    "\n",
    "# 3. Implement search, sort and delete operations on array of integers."
   ]
  },
  {
   "cell_type": "code",
   "execution_count": 9,
   "id": "8c84d958",
   "metadata": {},
   "outputs": [
    {
     "name": "stdout",
     "output_type": "stream",
     "text": [
      "How many elements to store inside the array: 5\n",
      "\n",
      "Enter 5 elements: 2\n",
      "4\n",
      "5\n",
      "6\n",
      "7\n",
      "\n",
      "The array elements are:\n",
      "24567"
     ]
    }
   ],
   "source": [
    "\"\"\"1D Array Example\"\"\"\n",
    "\n",
    "print(\"How many elements to store inside the array: \", end = \"\")\n",
    "num = input()\n",
    "arr = []\n",
    "print(\"\\nEnter\", num, \"elements: \", end = \"\")\n",
    "num = int(num)\n",
    "for i in range (num):\n",
    "    element = input()\n",
    "    arr.append(element)\n",
    "print(\"\\nThe array elements are:\")\n",
    "for i in range(num):\n",
    "    print(arr[i], end = \"\")"
   ]
  },
  {
   "cell_type": "code",
   "execution_count": 10,
   "id": "e8a2ab8a",
   "metadata": {},
   "outputs": [
    {
     "name": "stdout",
     "output_type": "stream",
     "text": [
      "Input number of rows: 2\n",
      "Input number of columns: 3\n",
      "[[0, 0, 0], [0, 1, 2]]\n"
     ]
    }
   ],
   "source": [
    "\"\"\"2D Array Example\"\"\"\n",
    "\n",
    "r_num = int(input(\"Input number of rows: \"))\n",
    "c_num = int(input(\"Input number of columns: \"))\n",
    "two_D_arr = [[0 for col in range(c_num)] for row in range(r_num)]\n",
    "\n",
    "for row in range(r_num):\n",
    "    for col in range(c_num):\n",
    "        two_D_arr[row][col] = row * col\n",
    "print(two_D_arr)"
   ]
  },
  {
   "cell_type": "code",
   "execution_count": 12,
   "id": "d7674c56",
   "metadata": {},
   "outputs": [
    {
     "name": "stdout",
     "output_type": "stream",
     "text": [
      "Enter the size of the Array: 3\n",
      "Enter 3 Elements: 4\n",
      "5\n",
      "6\n",
      "\n",
      "Enter the Value to Delete: 1\n",
      "\n",
      "Element doesn't exist in the List!\n"
     ]
    }
   ],
   "source": [
    "\"\"\"Delete operations\"\"\"\n",
    "\n",
    "print(end = \"Enter the size of the Array: \")\n",
    "tot = int(input())\n",
    "arr = []\n",
    "print(end = \"Enter \" + str(tot) + \" Elements: \")\n",
    "for i in range(tot):\n",
    "    arr.append(input())\n",
    "print(end = \"\\nEnter the Value to Delete: \")\n",
    "val = input()\n",
    "if val in arr:\n",
    "    arr.remove(val)\n",
    "    print(\"\\nThe new Array is: \")\n",
    "    for i in range(tot - 1):\n",
    "        print(end = arr[i] + \" \")\n",
    "else:\n",
    "    print(\"\\nElement doesn't exist in the List!\")"
   ]
  },
  {
   "cell_type": "code",
   "execution_count": 13,
   "id": "51169217",
   "metadata": {},
   "outputs": [
    {
     "name": "stdout",
     "output_type": "stream",
     "text": [
      "Elements of original array: \n",
      "10 22 38 27 11 \n",
      "Elements of the Array sorted in ascending order: \n",
      "10 11 22 27 38 "
     ]
    }
   ],
   "source": [
    "\"\"\"Sort operations\"\"\"\n",
    "\n",
    "arr = [10, 22, 38,  27, 11]\n",
    "temp = 0\n",
    "\n",
    "# Displaying elements of original array\n",
    "print(\"Elements of original array: \")\n",
    "for i in range(0, len(arr)):\n",
    "    print(arr[i], end = \" \")\n",
    "# Sort the array in ascending order\n",
    "for i in range(0, len(arr)):\n",
    "    for j in range(i + 1, len(arr)):\n",
    "        if(arr[i] > arr[j]):\n",
    "            temp = arr[i]\n",
    "            arr[i] = arr[j]\n",
    "            arr[j] = temp\n",
    "print()\n",
    "# Displaying elements of the Array after sorting\n",
    "print(\"Elements of the Array sorted in ascending order: \")\n",
    "for i in range(0, len(arr)):\n",
    "    print(arr[i], end = \" \")"
   ]
  },
  {
   "cell_type": "code",
   "execution_count": 17,
   "id": "19c05fd7",
   "metadata": {},
   "outputs": [
    {
     "name": "stdout",
     "output_type": "stream",
     "text": [
      "the new created array is: 1 2 3 1 2 5 \r\n",
      "The index of 1st occurance of 2 is: 1\n",
      "The index of 1st occurance of 1 is: 0\n",
      "The index of 1st occurance of 3 is: 2\n",
      "The index of 1st occurance of 3 is: 5\n"
     ]
    }
   ],
   "source": [
    "\"\"\"Searching operations\"\"\"\n",
    "\n",
    "import array\n",
    "\n",
    "arr = array.array('i', [1, 2, 3, 1, 2, 5])\n",
    "print( \"the new created array is: \", end = \"\")\n",
    "for i in range(0, 6):\n",
    "    print(arr[i], end = \" \")\n",
    "print(\"\\r\")\n",
    "print(\"The index of 1st occurance of 2 is: \", end = \"\")\n",
    "print(arr.index(2))\n",
    "print(\"The index of 1st occurance of 1 is: \", end = \"\")\n",
    "print(arr.index(1))\n",
    "print(\"The index of 1st occurance of 3 is: \", end = \"\")\n",
    "print(arr.index(3))\n",
    "print(\"The index of 1st occurance of 3 is: \", end = \"\")\n",
    "print(arr.index(5))"
   ]
  },
  {
   "cell_type": "code",
   "execution_count": 18,
   "id": "ad6027f0",
   "metadata": {},
   "outputs": [
    {
     "data": {
      "text/plain": [
       "'Advantages of Arrays'"
      ]
     },
     "execution_count": 18,
     "metadata": {},
     "output_type": "execute_result"
    }
   ],
   "source": [
    "\"\"\"Advantages of Arrays\"\"\"\n",
    "# Random access elements.\n",
    "# Easy sorting and iteration.\n",
    "# Replacement of multiple variables."
   ]
  },
  {
   "cell_type": "code",
   "execution_count": null,
   "id": "80f1c062",
   "metadata": {},
   "outputs": [],
   "source": [
    "\"\"\"Disadvantages of Arrays\"\"\"\n",
    "# Size is fixed.\n",
    "# Difficult to insert and delete.\n",
    "# If capacity is more and occupancy is less, most of the Array gets wasted.\n",
    "# Needs contiguous memory."
   ]
  }
 ],
 "metadata": {
  "kernelspec": {
   "display_name": "Python 3 (ipykernel)",
   "language": "python",
   "name": "python3"
  },
  "language_info": {
   "codemirror_mode": {
    "name": "ipython",
    "version": 3
   },
   "file_extension": ".py",
   "mimetype": "text/x-python",
   "name": "python",
   "nbconvert_exporter": "python",
   "pygments_lexer": "ipython3",
   "version": "3.10.1"
  }
 },
 "nbformat": 4,
 "nbformat_minor": 5
}
